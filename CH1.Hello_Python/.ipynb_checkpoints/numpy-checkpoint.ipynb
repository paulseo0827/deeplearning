{
 "cells": [
  {
   "cell_type": "markdown",
   "metadata": {
    "collapsed": true
   },
   "source": [
    "Numpy (http://www.numpy.org/) : Numerical Python의 줄임 말로써 고성능의 수치 계산을 하기 위해 만들어진 python package\n",
    "\n",
    "추가 도움 교재 1(Chapter 7~13) : http://nbviewer.jupyter.org/github/jmportilla/Udemy-notes/tree/master/\n",
    "추가 도움 교재 2 : http://cs231n.github.io/python-numpy-tutorial"
   ]
  },
  {
   "cell_type": "markdown",
   "metadata": {
    "collapsed": true
   },
   "source": [
    "1) 넘파이 가져오기\n",
    "\n",
    "외부 패키지를 가져올 때는 import 를 이용함\n",
    "as 뒤에 np는 numpy 라이브러리에 대한 alias라 생각하면 됨"
   ]
  },
  {
   "cell_type": "code",
   "execution_count": 1,
   "metadata": {
    "collapsed": true
   },
   "outputs": [],
   "source": [
    "import numpy as np"
   ]
  },
  {
   "cell_type": "markdown",
   "metadata": {
    "collapsed": true
   },
   "source": [
    "2) 넘파이 배열 생성하기\n",
    "\n",
    "numpy 배열을 만들 때, np.array() 메서드를 사용\n",
    "np.array() 는 파이썬의 리스트를 인수로 받아서 특수한 형태의 배열(numpy.ndarray)을 반환함"
   ]
  },
  {
   "cell_type": "code",
   "execution_count": 2,
   "metadata": {
    "collapsed": false
   },
   "outputs": [
    {
     "name": "stdout",
     "output_type": "stream",
     "text": [
      "[ 1.  2.  3.]\n",
      "<class 'numpy.ndarray'>\n"
     ]
    }
   ],
   "source": [
    "x = np.array([1.0, 2.0, 3.0])\n",
    "print(x)\n",
    "print(type(x))"
   ]
  },
  {
   "cell_type": "markdown",
   "metadata": {
    "collapsed": true
   },
   "source": [
    "3) 넘파이의 산술 연산\n",
    "\n",
    "산술 연산을 할 때, 서로간 원소의 수가 같아야 함\n",
    "원소 수가 다르면 오류가 발생하므로 갯수 맞추기가 중요\n",
    "\n",
    "넘파이 배열은 원소별 계산뿐 아니라 넘파이 배열과 수치 하나(스칼라값)의 조합으로 된 산술 연산도 수행할 수 있음, 이런 경우 스칼라 값과 계산이 넘파이 배열의 원소별로 한번씩 수행됨(N:1)\n",
    "이런 기능을 브로드캐스트 라고 함"
   ]
  },
  {
   "cell_type": "code",
   "execution_count": 4,
   "metadata": {
    "collapsed": false
   },
   "outputs": [
    {
     "name": "stdout",
     "output_type": "stream",
     "text": [
      "x + y =>  [ 3.  6.  9.]\n",
      "x - y =>  [-1. -2. -3.]\n",
      "x * y =>  [  2.   8.  18.]\n",
      "x / y =>  [ 0.5  0.5  0.5]\n"
     ]
    }
   ],
   "source": [
    "x = np.array([1.0, 2.0, 3.0])\n",
    "y = np.array([2.0, 4.0, 6.0])\n",
    "\n",
    "print('x + y => ', x + y) # 원소별 덧셈\n",
    "\n",
    "print('x - y => ', x - y) # 원소별 뺄셈\n",
    "\n",
    "print('x * y => ', x * y) # 원소별 곱셈\n",
    "\n",
    "print('x / y => ', x / y) # 원소별 나눗셈"
   ]
  },
  {
   "cell_type": "code",
   "execution_count": 6,
   "metadata": {
    "collapsed": false
   },
   "outputs": [
    {
     "ename": "ValueError",
     "evalue": "operands could not be broadcast together with shapes (2,) (3,) ",
     "output_type": "error",
     "traceback": [
      "\u001b[0;31m---------------------------------------------------------------------------\u001b[0m",
      "\u001b[0;31mValueError\u001b[0m                                Traceback (most recent call last)",
      "\u001b[0;32m<ipython-input-6-84086752b0bb>\u001b[0m in \u001b[0;36m<module>\u001b[0;34m()\u001b[0m\n\u001b[1;32m      2\u001b[0m \u001b[0my\u001b[0m \u001b[0;34m=\u001b[0m \u001b[0mnp\u001b[0m\u001b[0;34m.\u001b[0m\u001b[0marray\u001b[0m\u001b[0;34m(\u001b[0m\u001b[0;34m[\u001b[0m\u001b[0;36m2.0\u001b[0m\u001b[0;34m,\u001b[0m \u001b[0;36m4.0\u001b[0m\u001b[0;34m,\u001b[0m \u001b[0;36m6.0\u001b[0m\u001b[0;34m]\u001b[0m\u001b[0;34m)\u001b[0m\u001b[0;34m\u001b[0m\u001b[0m\n\u001b[1;32m      3\u001b[0m \u001b[0;34m\u001b[0m\u001b[0m\n\u001b[0;32m----> 4\u001b[0;31m \u001b[0mprint\u001b[0m\u001b[0;34m(\u001b[0m\u001b[0;34m'x + y => '\u001b[0m\u001b[0;34m,\u001b[0m \u001b[0mx\u001b[0m \u001b[0;34m+\u001b[0m \u001b[0my\u001b[0m\u001b[0;34m)\u001b[0m \u001b[0;31m# 원소별 덧셈\u001b[0m\u001b[0;34m\u001b[0m\u001b[0m\n\u001b[0m\u001b[1;32m      5\u001b[0m \u001b[0;34m\u001b[0m\u001b[0m\n\u001b[1;32m      6\u001b[0m \u001b[0mprint\u001b[0m\u001b[0;34m(\u001b[0m\u001b[0;34m'x - y => '\u001b[0m\u001b[0;34m,\u001b[0m \u001b[0mx\u001b[0m \u001b[0;34m-\u001b[0m \u001b[0my\u001b[0m\u001b[0;34m)\u001b[0m \u001b[0;31m# 원소별 뺄셈\u001b[0m\u001b[0;34m\u001b[0m\u001b[0m\n",
      "\u001b[0;31mValueError\u001b[0m: operands could not be broadcast together with shapes (2,) (3,) "
     ]
    }
   ],
   "source": [
    "x = np.array([1.0, 2.0])\n",
    "y = np.array([2.0, 4.0, 6.0])\n",
    "\n",
    "print('x + y => ', x + y) # 원소별 덧셈\n",
    "\n",
    "print('x - y => ', x - y) # 원소별 뺄셈\n",
    "\n",
    "print('x * y => ', x * y) # 원소별 곱셈\n",
    "\n",
    "print('x / y => ', x / y) # 원소별 나눗셈"
   ]
  },
  {
   "cell_type": "code",
   "execution_count": 5,
   "metadata": {
    "collapsed": false
   },
   "outputs": [
    {
     "name": "stdout",
     "output_type": "stream",
     "text": [
      "[ 0.5  1.   1.5]\n"
     ]
    }
   ],
   "source": [
    "x = np.array([1.0, 2.0, 3.0])\n",
    "print(x / 2.0)"
   ]
  },
  {
   "cell_type": "markdown",
   "metadata": {},
   "source": [
    "4) 넘파이의 N차원 배열"
   ]
  },
  {
   "cell_type": "code",
   "execution_count": 9,
   "metadata": {
    "collapsed": false
   },
   "outputs": [
    {
     "name": "stdout",
     "output_type": "stream",
     "text": [
      "A =>  [[1 2]\n",
      " [3 4]]\n",
      "A.shape =>  (2, 2)\n",
      "A.dtype =>  int64\n"
     ]
    }
   ],
   "source": [
    "A = np.array([[1,2], [3,4]])\n",
    "print('A => ', A)\n",
    "print('A.shape => ', A.shape)\n",
    "print('A.dtype => ', A.dtype)"
   ]
  },
  {
   "cell_type": "code",
   "execution_count": 10,
   "metadata": {
    "collapsed": false
   },
   "outputs": [
    {
     "name": "stdout",
     "output_type": "stream",
     "text": [
      "A + B =>  [[ 4  2]\n",
      " [ 3 10]]\n",
      "A * B =>  [[ 3  0]\n",
      " [ 0 24]]\n"
     ]
    }
   ],
   "source": [
    "B = np.array([[3,0], [0,6]])\n",
    "print('A + B => ', A + B)\n",
    "print('A * B => ', A * B)"
   ]
  },
  {
   "cell_type": "code",
   "execution_count": 12,
   "metadata": {
    "collapsed": false
   },
   "outputs": [
    {
     "name": "stdout",
     "output_type": "stream",
     "text": [
      "A =>  [[1 2]\n",
      " [3 4]]\n",
      "A * 10 =>  [[10 20]\n",
      " [30 40]]\n"
     ]
    }
   ],
   "source": [
    "print('A => ', A)\n",
    "print('A * 10 => ', A * 10)"
   ]
  },
  {
   "cell_type": "markdown",
   "metadata": {},
   "source": [
    "5) 브로드캐스트"
   ]
  },
  {
   "cell_type": "code",
   "execution_count": 15,
   "metadata": {
    "collapsed": false
   },
   "outputs": [
    {
     "name": "stdout",
     "output_type": "stream",
     "text": [
      "A * B =>  [[10 40]\n",
      " [30 80]]\n"
     ]
    }
   ],
   "source": [
    "A = np.array([[1,2], [3,4]])\n",
    "B = np.array([10, 20])\n",
    "print('A * B => ', A * B)"
   ]
  },
  {
   "cell_type": "markdown",
   "metadata": {},
   "source": [
    "6) 원소 접근"
   ]
  },
  {
   "cell_type": "code",
   "execution_count": 16,
   "metadata": {
    "collapsed": false
   },
   "outputs": [
    {
     "name": "stdout",
     "output_type": "stream",
     "text": [
      "X =>  [[51 55]\n",
      " [14 19]\n",
      " [ 0  4]]\n",
      "X[0] =>  [51 55]\n",
      "X[0][1] =>  55\n"
     ]
    }
   ],
   "source": [
    "X = np.array([[51,55], [14,19], [0,4]])\n",
    "print('X => ', X)\n",
    "print('X[0] => ', X[0])\n",
    "print('X[0][1] => ', X[0][1])"
   ]
  },
  {
   "cell_type": "code",
   "execution_count": 17,
   "metadata": {
    "collapsed": false
   },
   "outputs": [
    {
     "name": "stdout",
     "output_type": "stream",
     "text": [
      "[51 55]\n",
      "[14 19]\n",
      "[0 4]\n"
     ]
    }
   ],
   "source": [
    "for row in X:\n",
    "    print(row)"
   ]
  },
  {
   "cell_type": "code",
   "execution_count": 18,
   "metadata": {
    "collapsed": false
   },
   "outputs": [
    {
     "name": "stdout",
     "output_type": "stream",
     "text": [
      "X =>  [51 55 14 19  0  4]\n",
      "X[np.array([0, 2, 4])] =>  [51 14  0]\n"
     ]
    }
   ],
   "source": [
    "X = X.flatten() # X를 1차원 배열로 변환(평탄화)\n",
    "print('X => ', X)\n",
    "print('X[np.array([0, 2, 4])] => ', X[np.array([0, 2, 4])])\n",
    "# 인덱스가 0, 2, 4 인 원소 구하기"
   ]
  },
  {
   "cell_type": "code",
   "execution_count": 19,
   "metadata": {
    "collapsed": false
   },
   "outputs": [
    {
     "name": "stdout",
     "output_type": "stream",
     "text": [
      "X > 15 =>  [ True  True False  True False False]\n",
      "X[X>15] => [51 55 19]\n"
     ]
    }
   ],
   "source": [
    "print('X > 15 => ', X > 15)\n",
    "print('X[X>15] =>', X[X>15])"
   ]
  },
  {
   "cell_type": "code",
   "execution_count": null,
   "metadata": {
    "collapsed": true
   },
   "outputs": [],
   "source": []
  }
 ],
 "metadata": {
  "kernelspec": {
   "display_name": "Python 3",
   "language": "python",
   "name": "python3"
  },
  "language_info": {
   "codemirror_mode": {
    "name": "ipython",
    "version": 3
   },
   "file_extension": ".py",
   "mimetype": "text/x-python",
   "name": "python",
   "nbconvert_exporter": "python",
   "pygments_lexer": "ipython3",
   "version": "3.5.2"
  }
 },
 "nbformat": 4,
 "nbformat_minor": 1
}
