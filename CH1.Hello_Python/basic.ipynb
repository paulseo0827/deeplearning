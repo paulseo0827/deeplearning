{
 "cells": [
  {
   "cell_type": "markdown",
   "metadata": {},
   "source": [
    "1) 산술 연산\n",
    "+ : 더하기\n",
    "* : 곱하기\n",
    "/ : 나눗셈\n",
    "** : 거듭제곱(^)"
   ]
  },
  {
   "cell_type": "code",
   "execution_count": null,
   "metadata": {
    "collapsed": true
   },
   "outputs": [],
   "source": [
    "1 + 2"
   ]
  },
  {
   "cell_type": "code",
   "execution_count": 2,
   "metadata": {
    "collapsed": false
   },
   "outputs": [
    {
     "data": {
      "text/plain": [
       "-1"
      ]
     },
     "execution_count": 2,
     "metadata": {},
     "output_type": "execute_result"
    }
   ],
   "source": [
    "1 - 2"
   ]
  },
  {
   "cell_type": "code",
   "execution_count": 3,
   "metadata": {
    "collapsed": false
   },
   "outputs": [
    {
     "data": {
      "text/plain": [
       "20"
      ]
     },
     "execution_count": 3,
     "metadata": {},
     "output_type": "execute_result"
    }
   ],
   "source": [
    "4 * 5"
   ]
  },
  {
   "cell_type": "code",
   "execution_count": 4,
   "metadata": {
    "collapsed": false
   },
   "outputs": [
    {
     "data": {
      "text/plain": [
       "1.4"
      ]
     },
     "execution_count": 4,
     "metadata": {},
     "output_type": "execute_result"
    }
   ],
   "source": [
    "7 / 5"
   ]
  },
  {
   "cell_type": "code",
   "execution_count": 5,
   "metadata": {
    "collapsed": false
   },
   "outputs": [
    {
     "data": {
      "text/plain": [
       "9"
      ]
     },
     "execution_count": 5,
     "metadata": {},
     "output_type": "execute_result"
    }
   ],
   "source": [
    "3 ** 2"
   ]
  },
  {
   "cell_type": "markdown",
   "metadata": {},
   "source": [
    "2) 자료형\n",
    "\n",
    "데이터 성질을 나타내는 것\n",
    "형태로는 정수, 소수, 문자열 등\n",
    "type 함수로 특정 데이터의 자료형을 알 수 있음"
   ]
  },
  {
   "cell_type": "code",
   "execution_count": 6,
   "metadata": {
    "collapsed": false
   },
   "outputs": [
    {
     "data": {
      "text/plain": [
       "int"
      ]
     },
     "execution_count": 6,
     "metadata": {},
     "output_type": "execute_result"
    }
   ],
   "source": [
    "type(10)"
   ]
  },
  {
   "cell_type": "code",
   "execution_count": 7,
   "metadata": {
    "collapsed": false
   },
   "outputs": [
    {
     "data": {
      "text/plain": [
       "float"
      ]
     },
     "execution_count": 7,
     "metadata": {},
     "output_type": "execute_result"
    }
   ],
   "source": [
    "type(2.718)"
   ]
  },
  {
   "cell_type": "code",
   "execution_count": 8,
   "metadata": {
    "collapsed": false
   },
   "outputs": [
    {
     "data": {
      "text/plain": [
       "str"
      ]
     },
     "execution_count": 8,
     "metadata": {},
     "output_type": "execute_result"
    }
   ],
   "source": [
    "type(\"hello\")"
   ]
  },
  {
   "cell_type": "markdown",
   "metadata": {},
   "source": [
    "3) 변수\n",
    "\n",
    "변수를 이용하여 계산하거나 다른 값을 대입할 수 있음"
   ]
  },
  {
   "cell_type": "code",
   "execution_count": 9,
   "metadata": {
    "collapsed": false
   },
   "outputs": [
    {
     "name": "stdout",
     "output_type": "stream",
     "text": [
      "10\n",
      "100\n"
     ]
    },
    {
     "data": {
      "text/plain": [
       "float"
      ]
     },
     "execution_count": 9,
     "metadata": {},
     "output_type": "execute_result"
    }
   ],
   "source": [
    "x = 10\n",
    "print(x)\n",
    "\n",
    "x = 100\n",
    "print(x)\n",
    "\n",
    "y = 3.14\n",
    "x * y\n",
    "\n",
    "type(x * y)"
   ]
  },
  {
   "cell_type": "markdown",
   "metadata": {},
   "source": [
    "4) 리스트\n",
    "\n",
    "여러 데이터를 묶어서 하나의 변수로 처리할 수 있음\n",
    "리스트에 있는 값의 위치는 0 부터 시작함"
   ]
  },
  {
   "cell_type": "code",
   "execution_count": 14,
   "metadata": {
    "collapsed": false
   },
   "outputs": [
    {
     "name": "stdout",
     "output_type": "stream",
     "text": [
      "[1, 2, 3, 4, 5]\n",
      "a list length :  5\n",
      "1\n",
      "[1, 2, 3, 4, 99]\n"
     ]
    }
   ],
   "source": [
    "a = [1, 2, 3, 4, 5]\n",
    "print(a)\n",
    "\n",
    "print( 'a list length : ', len(a) )\n",
    "\n",
    "print( a[0] )\n",
    "\n",
    "a[4] = 99\n",
    "\n",
    "print(a)"
   ]
  },
  {
   "cell_type": "code",
   "execution_count": 19,
   "metadata": {
    "collapsed": false
   },
   "outputs": [
    {
     "name": "stdout",
     "output_type": "stream",
     "text": [
      "a value =>  [1, 2, 3, 4, 99]\n",
      "a[0:2] =>  [1, 2]\n",
      "a[1:] =>  [2, 3, 4, 99]\n",
      "a[:3] =>  [1, 2, 3]\n",
      "a[:-1] =>  [1, 2, 3, 4]\n",
      "a[:-2] =>  [1, 2, 3]\n"
     ]
    }
   ],
   "source": [
    "print( 'a value => ', a)\n",
    "\n",
    "print( 'a[0:2] => ', a[0:2] )\n",
    "\n",
    "print( 'a[1:] => ', a[1:] )\n",
    "\n",
    "print( 'a[:3] => ', a[:3] )\n",
    "\n",
    "print( 'a[:-1] => ', a[:-1] )\n",
    "\n",
    "print( 'a[:-2] => ', a[:-2] )"
   ]
  },
  {
   "cell_type": "markdown",
   "metadata": {},
   "source": [
    "5) 딕셔너리\n",
    "\n",
    "리스트는 인덱스 번호로 0부터 시작하여 값을 저장함 \n",
    "딕셔너리는 키와 값을 한쌍으로 하여 저장함\n",
    "(영한사전에 단어와 그 의미 혹은 json 포맷이라 생각하면됨"
   ]
  },
  {
   "cell_type": "code",
   "execution_count": 25,
   "metadata": {
    "collapsed": false
   },
   "outputs": [
    {
     "name": "stdout",
     "output_type": "stream",
     "text": [
      "{'height': 180}\n",
      "me['height'] =>  180\n",
      "{'weight': 70, 'height': 180}\n"
     ]
    }
   ],
   "source": [
    "me = {'height':180}\n",
    "\n",
    "print(me)\n",
    "\n",
    "print( \"me['height'] => \", me['height'])\n",
    "\n",
    "me['weight'] = 70\n",
    "\n",
    "print(me)"
   ]
  },
  {
   "cell_type": "markdown",
   "metadata": {},
   "source": [
    "6) bool\n",
    "\n",
    "True(참) 과 False(거짓) 두 개의 값을 가지는 자료형\n",
    "bool에서 and, or, not 연산자를 사용할 수 음"
   ]
  },
  {
   "cell_type": "code",
   "execution_count": 29,
   "metadata": {
    "collapsed": false
   },
   "outputs": [
    {
     "name": "stdout",
     "output_type": "stream",
     "text": [
      "type(hungry) :  <class 'bool'>\n",
      "not hungry :  False\n",
      "hungry and sleepy :  False\n",
      "hungry or sleepy :  True\n"
     ]
    }
   ],
   "source": [
    "hungry = True\n",
    "sleepy = False\n",
    "\n",
    "print('type(hungry) : ', type(hungry))\n",
    "\n",
    "print('not hungry : ', not hungry)\n",
    "\n",
    "print('hungry and sleepy : ', hungry and sleepy)\n",
    "\n",
    "print('hungry or sleepy : ', hungry or sleepy)"
   ]
  },
  {
   "cell_type": "markdown",
   "metadata": {},
   "source": [
    "7) if문\n",
    "\n",
    "조건 처리를 위해서, if/else 문을 사용함\n",
    "if/else 문장 뒤에 끝에는 \":\" 문자를 넣어야 함\n",
    "각 문단 구분에는 공백 4개 혹은 탭으로 하는 편이다\n",
    "(해당 사항은 프로젝트에 따라 기준이 다름)"
   ]
  },
  {
   "cell_type": "code",
   "execution_count": 30,
   "metadata": {
    "collapsed": false
   },
   "outputs": [
    {
     "name": "stdout",
     "output_type": "stream",
     "text": [
      "I'm hungry\n",
      "I'm not hungry\n",
      "I'm sleepy\n"
     ]
    }
   ],
   "source": [
    "hungry = True\n",
    "\n",
    "if hungry:\n",
    "    print(\"I'm hungry\")\n",
    "    \n",
    "hungry = False\n",
    "\n",
    "if hungry: \n",
    "    print(\"I'm hungry\")\n",
    "else:\n",
    "    print(\"I'm not hungry\")\n",
    "    print(\"I'm sleepy\")"
   ]
  },
  {
   "cell_type": "markdown",
   "metadata": {},
   "source": [
    "8) for문\n",
    "\n",
    "반복처리를 위해서 for문을 사용함\n",
    "for 문장 뒤에 끝에는 \":\" 문자를 넣어야 함"
   ]
  },
  {
   "cell_type": "code",
   "execution_count": 31,
   "metadata": {
    "collapsed": false
   },
   "outputs": [
    {
     "name": "stdout",
     "output_type": "stream",
     "text": [
      "1\n",
      "2\n",
      "3\n"
     ]
    }
   ],
   "source": [
    "for i in [1, 2, 3]:\n",
    "    print(i)"
   ]
  },
  {
   "cell_type": "code",
   "execution_count": 32,
   "metadata": {
    "collapsed": false
   },
   "outputs": [
    {
     "name": "stdout",
     "output_type": "stream",
     "text": [
      "1\n",
      "2\n",
      "3\n"
     ]
    }
   ],
   "source": [
    "input = [1, 2, 3]\n",
    "\n",
    "for i in input:\n",
    "    print(i)"
   ]
  },
  {
   "cell_type": "markdown",
   "metadata": {},
   "source": [
    "9) 함수\n",
    "\n",
    "특정 기능을 수행하는 일련의 명령어들을 묶어서 하나의 함수로 정의"
   ]
  },
  {
   "cell_type": "code",
   "execution_count": 33,
   "metadata": {
    "collapsed": false
   },
   "outputs": [
    {
     "name": "stdout",
     "output_type": "stream",
     "text": [
      "Hello World!\n"
     ]
    }
   ],
   "source": [
    "def hello():\n",
    "    print(\"Hello World!\")\n",
    "    \n",
    "hello()"
   ]
  },
  {
   "cell_type": "code",
   "execution_count": 35,
   "metadata": {
    "collapsed": false
   },
   "outputs": [
    {
     "name": "stdout",
     "output_type": "stream",
     "text": [
      "Hello cat!\n"
     ]
    }
   ],
   "source": [
    "def hello(object):\n",
    "    print(\"Hello \" + object + \"!\")\n",
    "\n",
    "hello(\"cat\")"
   ]
  },
  {
   "cell_type": "markdown",
   "metadata": {},
   "source": [
    "10) 클래스\n",
    "\n",
    "개발자가 직접 클래스를 정의하면 독자적으로 자료형을 만들수 있음\n",
    "클래스에는 클래스만의 전용 함수(메서드)와 속성을 정의할 수 있음\n",
    "\n",
    "\"__init__\" 는 클래스를 초기화하는 메서드로 생성자라 부름, 클래스의 인스턴스가 만들어질 때 한번만 불림\n",
    "\n",
    "파이썬에서는 첫번째 인수로 자신(자신의 인스턴스)을 나타내는 self를 명시적으로 쓰는 것이 "
   ]
  },
  {
   "cell_type": "code",
   "execution_count": 36,
   "metadata": {
    "collapsed": false
   },
   "outputs": [
    {
     "name": "stdout",
     "output_type": "stream",
     "text": [
      "Initialized!\n",
      "Hello David!\n",
      "Good-bye David!\n"
     ]
    }
   ],
   "source": [
    "class Man:\n",
    "    def __init__(self, name):\n",
    "        self.name = name\n",
    "        print(\"Initialized!\")\n",
    "    \n",
    "    def hello(self):\n",
    "        print(\"Hello \" + self.name + \"!\")\n",
    "    \n",
    "    def goodbye(self):\n",
    "        print(\"Good-bye \" + self.name + \"!\")\n",
    "\n",
    "m = Man(\"David\")\n",
    "m.hello()\n",
    "m.goodbye()"
   ]
  },
  {
   "cell_type": "code",
   "execution_count": null,
   "metadata": {
    "collapsed": true
   },
   "outputs": [],
   "source": []
  }
 ],
 "metadata": {
  "kernelspec": {
   "display_name": "Python 3",
   "language": "python",
   "name": "python3"
  },
  "language_info": {
   "codemirror_mode": {
    "name": "ipython",
    "version": 3
   },
   "file_extension": ".py",
   "mimetype": "text/x-python",
   "name": "python",
   "nbconvert_exporter": "python",
   "pygments_lexer": "ipython3",
   "version": "3.5.2"
  }
 },
 "nbformat": 4,
 "nbformat_minor": 1
}
