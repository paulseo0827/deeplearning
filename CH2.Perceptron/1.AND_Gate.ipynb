{
 "cells": [
  {
   "cell_type": "markdown",
   "metadata": {},
   "source": [
    "이미지 참고 : http://www.slideshare.net/wegra/ss-70456623\n",
    "\n",
    "1) 퍼셉트론 (인공 뉴런 혹은 단순 퍼셉트론)\n",
    "\n",
    "다수의 신호를 입력으로 받아 하나의 신호를 출력\n",
    "\n",
    "퍼셉트론 신호는 흐른다(1)/안흐른다(0) 두가지 값을 가지고 있음\n",
    "\n",
    "하단 그림은 입력으로 2개 신호를 입력 받는 퍼셉트론의 예로 x1/x2 는 입력 신호, y는 출력 신호, w1/w2는 가중치 (w = weight) 를 뜻함\n",
    "\n",
    "그림에 원을 뉴런 혹은 노드라 부르고, 입력 신호가 뉴런에 보내질 때 각각 고유한 가중치(w)가 곱해져 전달 됨\n",
    "\n",
    "뉴런에 보내온 신호 총합이 정해진 한계(임계값)를 넘어설 때만 1을 출력함 (뉴런이 활성화한다 표현하기도 함)"
   ]
  },
  {
   "cell_type": "code",
   "execution_count": 15,
   "metadata": {
    "collapsed": false,
    "scrolled": true
   },
   "outputs": [
    {
     "data": {
      "image/png": "[encoded data removed]",
      "text/plain": [
       "<IPython.core.display.Image object>"
      ]
     },
     "execution_count": 15,
     "metadata": {},
     "output_type": "execute_result"
    }
   ],
   "source": [
    "from IPython.display import Image\n",
    "Image(filename='perceptron.PNG')"
   ]
  },
  {
   "cell_type": "markdown",
   "metadata": {},
   "source": [
    "퍼셉트론은 복수의 입력 신호 각각에 고유한 가중치를 부여하고, 가중치는 각 신호 결과에 영향력을 조절하는 중요한 요소임\n",
    "\n",
    "즉, 가중치가 클수록 해당 신호가 그만큼 더 중요함을 뜻함"
   ]
  },
  {
   "cell_type": "code",
   "execution_count": 16,
   "metadata": {
    "collapsed": false
   },
   "outputs": [
    {
     "data": {
      "image/png": "[encoded data removed]",
      "text/plain": [
       "<IPython.core.display.Image object>"
      ]
     },
     "execution_count": 16,
     "metadata": {},
     "output_type": "execute_result"
    }
   ],
   "source": [
    "Image(filename='perceptron1.PNG')"
   ]
  },
  {
   "cell_type": "markdown",
   "metadata": {},
   "source": [
    "[AND 게이트 진리표]\n",
    "\n",
    "| X1 | X2 |  Y  |\n",
    "| :--: | :--: | :--: |\n",
    "| 0\t | 0  | 0  |\n",
    "| 1\t | 0  | 0  |\n",
    "| 0\t | 1  | 0  |\n",
    "| 1\t | 1  | 1  |"
   ]
  },
  {
   "cell_type": "code",
   "execution_count": 3,
   "metadata": {
    "collapsed": false
   },
   "outputs": [],
   "source": [
    "import numpy as np"
   ]
  },
  {
   "cell_type": "code",
   "execution_count": 6,
   "metadata": {
    "collapsed": true
   },
   "outputs": [],
   "source": [
    "def AND(x1, x2):\n",
    "    w1, w2, theta = 0.5, 0.5, 0.7\n",
    "    tmp = x1*w1 + x2*w2\n",
    "    if tmp <= theta:\n",
    "        return 0\n",
    "    elif tmp > theta:\n",
    "        return 1"
   ]
  },
  {
   "cell_type": "code",
   "execution_count": 8,
   "metadata": {
    "collapsed": false,
    "scrolled": true
   },
   "outputs": [
    {
     "name": "stdout",
     "output_type": "stream",
     "text": [
      "AND(0, 0) =>  0\n"
     ]
    }
   ],
   "source": [
    "print ('AND(0, 0) => ', AND(0, 0))"
   ]
  },
  {
   "cell_type": "code",
   "execution_count": 9,
   "metadata": {
    "collapsed": false
   },
   "outputs": [
    {
     "name": "stdout",
     "output_type": "stream",
     "text": [
      "AND(1, 0) =>  0\n"
     ]
    }
   ],
   "source": [
    "print ('AND(1, 0) => ', AND(1, 0))"
   ]
  },
  {
   "cell_type": "code",
   "execution_count": 10,
   "metadata": {
    "collapsed": false
   },
   "outputs": [
    {
     "name": "stdout",
     "output_type": "stream",
     "text": [
      "AND(0, 1) =>  0\n"
     ]
    }
   ],
   "source": [
    "print ('AND(0, 1) => ', AND(0, 1))"
   ]
  },
  {
   "cell_type": "code",
   "execution_count": 11,
   "metadata": {
    "collapsed": false
   },
   "outputs": [
    {
     "name": "stdout",
     "output_type": "stream",
     "text": [
      "AND(1, 1) =>  1\n"
     ]
    }
   ],
   "source": [
    "print ('AND(1, 1) => ', AND(1, 1))"
   ]
  },
  {
   "cell_type": "markdown",
   "metadata": {
    "collapsed": true
   },
   "source": [
    "AND 게이트에 가중치와 편향(b = bias) 도입\n",
    "\n",
    "입력 신호에 가중치를 곱합 값과 편향을 합하여, 0을 넘으면 1을 출력하고 그렇지 않으면 0을 출력\n",
    "\n",
    "w1과 w2는 각 입력 신호가 결과에 주는 영향력(중요도)를 조절하는 매개변수\n",
    "\n",
    "편항은 뉴런이 얼마나 쉽게 활성화(결과로 1 출력) 하느냐를 조정하는 매개 변수\n",
    "\n",
    "b = -0.1 ==> 각 입력 신호에 가중치를 곱한 값들의 합이 0.1을 초과할 때만 뉴런이 활성화 됨\n",
    "\n",
    "b = -20.0 ==> 각 입력 신호에 가중치를 곱한 값들의 합이 20.0을 넘지 않으면 뉴런은 활성화 되지 않음"
   ]
  },
  {
   "cell_type": "code",
   "execution_count": 30,
   "metadata": {
    "collapsed": false
   },
   "outputs": [
    {
     "data": {
      "image/png": "[encoded data removed]",
      "text/plain": [
       "<IPython.core.display.Image object>"
      ]
     },
     "execution_count": 30,
     "metadata": {},
     "output_type": "execute_result"
    }
   ],
   "source": [
    "Image(filename='and_bias.PNG')"
   ]
  },
  {
   "cell_type": "code",
   "execution_count": 27,
   "metadata": {
    "collapsed": false
   },
   "outputs": [],
   "source": [
    "x = np.array([0, 1]) # 입력\n",
    "w = np.array([0.5, 0.5]) # 가중치\n",
    "b = -0.7 # 편향"
   ]
  },
  {
   "cell_type": "code",
   "execution_count": 28,
   "metadata": {
    "collapsed": false,
    "scrolled": true
   },
   "outputs": [
    {
     "name": "stdout",
     "output_type": "stream",
     "text": [
      "w*x =>  [ 0.   0.5]\n",
      "np.sum(w*x) =>  0.5\n",
      "np.sum(w*x) + b =>  -0.2\n"
     ]
    }
   ],
   "source": [
    "print('w*x => ', w*x)\n",
    "print('np.sum(w*x) => ', np.sum(w*x))\n",
    "print('np.sum(w*x) + b => ', np.sum(w*x) + b)"
   ]
  },
  {
   "cell_type": "code",
   "execution_count": 9,
   "metadata": {
    "collapsed": true
   },
   "outputs": [],
   "source": [
    "def AND_BIAS(x1, x2):\n",
    "    x = np.array([x1, x2])\n",
    "    w = np.array([0.5, 0.5])\n",
    "    b = -0.7\n",
    "    tmp = np.sum(w*x) + b\n",
    "    if tmp <= 0:\n",
    "        return 0\n",
    "    else:\n",
    "        return 1"
   ]
  },
  {
   "cell_type": "code",
   "execution_count": 10,
   "metadata": {
    "collapsed": false
   },
   "outputs": [
    {
     "name": "stdout",
     "output_type": "stream",
     "text": [
      "AND_BIAS(0, 0) =>  0\n"
     ]
    }
   ],
   "source": [
    "print ('AND_BIAS(0, 0) => ', AND_BIAS(0, 0))"
   ]
  },
  {
   "cell_type": "code",
   "execution_count": 11,
   "metadata": {
    "collapsed": false
   },
   "outputs": [
    {
     "name": "stdout",
     "output_type": "stream",
     "text": [
      "AND_BIAS(1, 0) =>  0\n"
     ]
    }
   ],
   "source": [
    "print ('AND_BIAS(1, 0) => ', AND_BIAS(1, 0))"
   ]
  },
  {
   "cell_type": "code",
   "execution_count": 12,
   "metadata": {
    "collapsed": false
   },
   "outputs": [
    {
     "name": "stdout",
     "output_type": "stream",
     "text": [
      "AND_BIAS(0, 1) =>  0\n"
     ]
    }
   ],
   "source": [
    "print ('AND_BIAS(0, 1) => ', AND_BIAS(0, 1))"
   ]
  },
  {
   "cell_type": "code",
   "execution_count": 13,
   "metadata": {
    "collapsed": false
   },
   "outputs": [
    {
     "name": "stdout",
     "output_type": "stream",
     "text": [
      "AND_BIAS(1, 1) =>  0\n"
     ]
    }
   ],
   "source": [
    "print ('AND_BIAS(1, 1) => ', AND_BIAS(1, 1))"
   ]
  },
  {
   "cell_type": "code",
   "execution_count": null,
   "metadata": {
    "collapsed": true
   },
   "outputs": [],
   "source": []
  }
 ],
 "metadata": {
  "kernelspec": {
   "display_name": "Python 3",
   "language": "python",
   "name": "python3"
  },
  "language_info": {
   "codemirror_mode": {
    "name": "ipython",
    "version": 3
   },
   "file_extension": ".py",
   "mimetype": "text/x-python",
   "name": "python",
   "nbconvert_exporter": "python",
   "pygments_lexer": "ipython3",
   "version": "3.5.2"
  }
 },
 "nbformat": 4,
 "nbformat_minor": 1
}
