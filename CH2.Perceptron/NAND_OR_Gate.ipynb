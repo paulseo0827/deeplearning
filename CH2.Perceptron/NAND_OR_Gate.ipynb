{
 "cells": [
  {
   "cell_type": "markdown",
   "metadata": {},
   "source": []
  },
  {
   "cell_type": "markdown",
   "metadata": {},
   "source": [
    "[NAND 게이트 진리표]\n",
    "\n",
    "| X1 | X2 |  Y  |\n",
    "| :--: | :--: | :--: |\n",
    "| 0\t | 0  | 1  |\n",
    "| 1\t | 0  | 1  |\n",
    "| 0\t | 1  | 1  |\n",
    "| 1\t | 1  | 1  |"
   ]
  },
  {
   "cell_type": "markdown",
   "metadata": {},
   "source": [
    "[OR 게이트 진리표]\n",
    "\n",
    "| X1 | X2 |  Y  |\n",
    "| :--: | :--: | :--: |\n",
    "| 0\t | 0  | 0  |\n",
    "| 1\t | 0  | 1  |\n",
    "| 0\t | 1  | 1  |\n",
    "| 1\t | 1  | 1  |"
   ]
  },
  {
   "cell_type": "code",
   "execution_count": 1,
   "metadata": {
    "collapsed": true
   },
   "outputs": [],
   "source": [
    "import numpy as np"
   ]
  },
  {
   "cell_type": "code",
   "execution_count": null,
   "metadata": {
    "collapsed": true
   },
   "outputs": [],
   "source": []
  },
  {
   "cell_type": "code",
   "execution_count": null,
   "metadata": {
    "collapsed": true
   },
   "outputs": [],
   "source": []
  },
  {
   "cell_type": "code",
   "execution_count": null,
   "metadata": {
    "collapsed": true
   },
   "outputs": [],
   "source": []
  }
 ],
 "metadata": {
  "kernelspec": {
   "display_name": "Python 3",
   "language": "python",
   "name": "python3"
  },
  "language_info": {
   "codemirror_mode": {
    "name": "ipython",
    "version": 3
   },
   "file_extension": ".py",
   "mimetype": "text/x-python",
   "name": "python",
   "nbconvert_exporter": "python",
   "pygments_lexer": "ipython3",
   "version": "3.5.2"
  }
 },
 "nbformat": 4,
 "nbformat_minor": 1
}
